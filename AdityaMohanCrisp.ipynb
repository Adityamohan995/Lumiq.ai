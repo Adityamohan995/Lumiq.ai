{
 "cells": [
  {
   "cell_type": "markdown",
   "metadata": {},
   "source": [
    "# Aditya Mohan"
   ]
  },
  {
   "cell_type": "markdown",
   "metadata": {},
   "source": [
    "#### Input: \n",
    "##### You have been given a link to a csv file containing features and labels. The final column represents the label (as a string) and all other columns represent different hand crafted features (floating point values). \n",
    "\n",
    "### Problem Statement: \n",
    "#### You have to train different classifiers on this dataset and predict the labels correspoding to the feature vectors. Not all of the features are contrbuting for an improvement in final classification accuracy. Your task is to try different training algorithms and features selection approaches to show which algorithm suits the task best and which features best define the dataset. Divide the dataset into train and validation set with 80/20 ratio and observe the validation accuracy for different algorithms. \n",
    "\n",
    "#### Output: \n",
    "##### Share your code (preferably a jupyter notebook) with some visualization of your resultant accuracies and a brief report over the feature selection process describing which features were most useful and the ones which didn’t contribute much."
   ]
  },
  {
   "cell_type": "markdown",
   "metadata": {},
   "source": [
    "#### Import Libraries"
   ]
  },
  {
   "cell_type": "code",
   "execution_count": 1,
   "metadata": {},
   "outputs": [],
   "source": [
    "import pandas as pd\n",
    "import numpy as np\n",
    "import matplotlib.pyplot as plt\n",
    "import seaborn as sns\n",
    "import scipy.stats as stats\n",
    "%matplotlib inline\n",
    "from sklearn.metrics import accuracy_score, classification_report"
   ]
  },
  {
   "cell_type": "code",
   "execution_count": 2,
   "metadata": {},
   "outputs": [],
   "source": [
    "# Import the csv file in pandas\n",
    "\n",
    "train = pd.read_csv(\"C://Users//Aditya//Desktop//Crisp//features_phase6a.csv\")"
   ]
  },
  {
   "cell_type": "code",
   "execution_count": 3,
   "metadata": {},
   "outputs": [
    {
     "data": {
      "text/html": [
       "<div>\n",
       "<style scoped>\n",
       "    .dataframe tbody tr th:only-of-type {\n",
       "        vertical-align: middle;\n",
       "    }\n",
       "\n",
       "    .dataframe tbody tr th {\n",
       "        vertical-align: top;\n",
       "    }\n",
       "\n",
       "    .dataframe thead th {\n",
       "        text-align: right;\n",
       "    }\n",
       "</style>\n",
       "<table border=\"1\" class=\"dataframe\">\n",
       "  <thead>\n",
       "    <tr style=\"text-align: right;\">\n",
       "      <th></th>\n",
       "      <th>FG1</th>\n",
       "      <th>FG2</th>\n",
       "      <th>FG3</th>\n",
       "      <th>FG4</th>\n",
       "      <th>FG5</th>\n",
       "      <th>FG6</th>\n",
       "      <th>FG7</th>\n",
       "      <th>FG8</th>\n",
       "      <th>FG9</th>\n",
       "      <th>FG10</th>\n",
       "      <th>...</th>\n",
       "      <th>NER_LOC</th>\n",
       "      <th>NER_OTH</th>\n",
       "      <th>SNER_ORG</th>\n",
       "      <th>SNER_PST</th>\n",
       "      <th>SNER_ADD</th>\n",
       "      <th>SNER_CITY</th>\n",
       "      <th>SNER_NAME</th>\n",
       "      <th>POS</th>\n",
       "      <th>SEP</th>\n",
       "      <th>LABEL</th>\n",
       "    </tr>\n",
       "  </thead>\n",
       "  <tbody>\n",
       "    <tr>\n",
       "      <th>0</th>\n",
       "      <td>-1.23830</td>\n",
       "      <td>0.99487</td>\n",
       "      <td>-0.73677</td>\n",
       "      <td>1.07730</td>\n",
       "      <td>0.25410</td>\n",
       "      <td>0.081738</td>\n",
       "      <td>0.17186</td>\n",
       "      <td>0.59812</td>\n",
       "      <td>-0.43664</td>\n",
       "      <td>0.029587</td>\n",
       "      <td>...</td>\n",
       "      <td>0</td>\n",
       "      <td>2</td>\n",
       "      <td>2</td>\n",
       "      <td>0</td>\n",
       "      <td>0</td>\n",
       "      <td>0</td>\n",
       "      <td>0</td>\n",
       "      <td>1</td>\n",
       "      <td>1</td>\n",
       "      <td>Others</td>\n",
       "    </tr>\n",
       "    <tr>\n",
       "      <th>1</th>\n",
       "      <td>-1.44060</td>\n",
       "      <td>0.58249</td>\n",
       "      <td>-1.29030</td>\n",
       "      <td>0.64414</td>\n",
       "      <td>-0.38313</td>\n",
       "      <td>-0.413500</td>\n",
       "      <td>-1.23140</td>\n",
       "      <td>-0.34478</td>\n",
       "      <td>0.76907</td>\n",
       "      <td>-0.921770</td>\n",
       "      <td>...</td>\n",
       "      <td>0</td>\n",
       "      <td>12</td>\n",
       "      <td>5</td>\n",
       "      <td>0</td>\n",
       "      <td>0</td>\n",
       "      <td>0</td>\n",
       "      <td>0</td>\n",
       "      <td>2</td>\n",
       "      <td>1</td>\n",
       "      <td>abstract</td>\n",
       "    </tr>\n",
       "    <tr>\n",
       "      <th>2</th>\n",
       "      <td>0.00000</td>\n",
       "      <td>0.00000</td>\n",
       "      <td>0.00000</td>\n",
       "      <td>0.00000</td>\n",
       "      <td>0.00000</td>\n",
       "      <td>0.000000</td>\n",
       "      <td>0.00000</td>\n",
       "      <td>0.00000</td>\n",
       "      <td>0.00000</td>\n",
       "      <td>0.000000</td>\n",
       "      <td>...</td>\n",
       "      <td>0</td>\n",
       "      <td>26</td>\n",
       "      <td>0</td>\n",
       "      <td>0</td>\n",
       "      <td>6</td>\n",
       "      <td>0</td>\n",
       "      <td>0</td>\n",
       "      <td>3</td>\n",
       "      <td>1</td>\n",
       "      <td>authors</td>\n",
       "    </tr>\n",
       "    <tr>\n",
       "      <th>3</th>\n",
       "      <td>2.02380</td>\n",
       "      <td>-0.51973</td>\n",
       "      <td>-1.12920</td>\n",
       "      <td>0.26308</td>\n",
       "      <td>0.18482</td>\n",
       "      <td>-0.051798</td>\n",
       "      <td>-0.00002</td>\n",
       "      <td>-0.15213</td>\n",
       "      <td>-1.88080</td>\n",
       "      <td>0.437770</td>\n",
       "      <td>...</td>\n",
       "      <td>2</td>\n",
       "      <td>26</td>\n",
       "      <td>15</td>\n",
       "      <td>0</td>\n",
       "      <td>5</td>\n",
       "      <td>0</td>\n",
       "      <td>0</td>\n",
       "      <td>4</td>\n",
       "      <td>1</td>\n",
       "      <td>affiliation</td>\n",
       "    </tr>\n",
       "    <tr>\n",
       "      <th>4</th>\n",
       "      <td>0.90512</td>\n",
       "      <td>0.13008</td>\n",
       "      <td>1.09170</td>\n",
       "      <td>0.52514</td>\n",
       "      <td>-0.21762</td>\n",
       "      <td>-0.222880</td>\n",
       "      <td>-0.69978</td>\n",
       "      <td>-0.60544</td>\n",
       "      <td>0.80407</td>\n",
       "      <td>-0.315140</td>\n",
       "      <td>...</td>\n",
       "      <td>0</td>\n",
       "      <td>6</td>\n",
       "      <td>0</td>\n",
       "      <td>0</td>\n",
       "      <td>0</td>\n",
       "      <td>0</td>\n",
       "      <td>0</td>\n",
       "      <td>5</td>\n",
       "      <td>1</td>\n",
       "      <td>correspondingauthor</td>\n",
       "    </tr>\n",
       "  </tbody>\n",
       "</table>\n",
       "<p>5 rows × 135 columns</p>\n",
       "</div>"
      ],
      "text/plain": [
       "       FG1      FG2      FG3      FG4      FG5       FG6      FG7      FG8  \\\n",
       "0 -1.23830  0.99487 -0.73677  1.07730  0.25410  0.081738  0.17186  0.59812   \n",
       "1 -1.44060  0.58249 -1.29030  0.64414 -0.38313 -0.413500 -1.23140 -0.34478   \n",
       "2  0.00000  0.00000  0.00000  0.00000  0.00000  0.000000  0.00000  0.00000   \n",
       "3  2.02380 -0.51973 -1.12920  0.26308  0.18482 -0.051798 -0.00002 -0.15213   \n",
       "4  0.90512  0.13008  1.09170  0.52514 -0.21762 -0.222880 -0.69978 -0.60544   \n",
       "\n",
       "       FG9      FG10         ...           NER_LOC  NER_OTH  SNER_ORG  \\\n",
       "0 -0.43664  0.029587         ...                 0        2         2   \n",
       "1  0.76907 -0.921770         ...                 0       12         5   \n",
       "2  0.00000  0.000000         ...                 0       26         0   \n",
       "3 -1.88080  0.437770         ...                 2       26        15   \n",
       "4  0.80407 -0.315140         ...                 0        6         0   \n",
       "\n",
       "   SNER_PST  SNER_ADD  SNER_CITY  SNER_NAME  POS  SEP                LABEL  \n",
       "0         0         0          0          0    1    1               Others  \n",
       "1         0         0          0          0    2    1             abstract  \n",
       "2         0         6          0          0    3    1              authors  \n",
       "3         0         5          0          0    4    1          affiliation  \n",
       "4         0         0          0          0    5    1  correspondingauthor  \n",
       "\n",
       "[5 rows x 135 columns]"
      ]
     },
     "execution_count": 3,
     "metadata": {},
     "output_type": "execute_result"
    }
   ],
   "source": [
    "train.head()"
   ]
  },
  {
   "cell_type": "code",
   "execution_count": 4,
   "metadata": {},
   "outputs": [
    {
     "name": "stdout",
     "output_type": "stream",
     "text": [
      "<class 'pandas.core.frame.DataFrame'>\n",
      "RangeIndex: 17337 entries, 0 to 17336\n",
      "Columns: 135 entries, FG1 to LABEL\n",
      "dtypes: float64(103), int64(31), object(1)\n",
      "memory usage: 17.9+ MB\n"
     ]
    }
   ],
   "source": [
    "train.info()"
   ]
  },
  {
   "cell_type": "code",
   "execution_count": 5,
   "metadata": {},
   "outputs": [
    {
     "data": {
      "text/html": [
       "<div>\n",
       "<style scoped>\n",
       "    .dataframe tbody tr th:only-of-type {\n",
       "        vertical-align: middle;\n",
       "    }\n",
       "\n",
       "    .dataframe tbody tr th {\n",
       "        vertical-align: top;\n",
       "    }\n",
       "\n",
       "    .dataframe thead th {\n",
       "        text-align: right;\n",
       "    }\n",
       "</style>\n",
       "<table border=\"1\" class=\"dataframe\">\n",
       "  <thead>\n",
       "    <tr style=\"text-align: right;\">\n",
       "      <th></th>\n",
       "      <th>FG1</th>\n",
       "      <th>FG2</th>\n",
       "      <th>FG3</th>\n",
       "      <th>FG4</th>\n",
       "      <th>FG5</th>\n",
       "      <th>FG6</th>\n",
       "      <th>FG7</th>\n",
       "      <th>FG8</th>\n",
       "      <th>FG9</th>\n",
       "      <th>FG10</th>\n",
       "      <th>...</th>\n",
       "      <th>NER_ORG</th>\n",
       "      <th>NER_LOC</th>\n",
       "      <th>NER_OTH</th>\n",
       "      <th>SNER_ORG</th>\n",
       "      <th>SNER_PST</th>\n",
       "      <th>SNER_ADD</th>\n",
       "      <th>SNER_CITY</th>\n",
       "      <th>SNER_NAME</th>\n",
       "      <th>POS</th>\n",
       "      <th>SEP</th>\n",
       "    </tr>\n",
       "  </thead>\n",
       "  <tbody>\n",
       "    <tr>\n",
       "      <th>count</th>\n",
       "      <td>17337.000000</td>\n",
       "      <td>17337.000000</td>\n",
       "      <td>17337.000000</td>\n",
       "      <td>17337.000000</td>\n",
       "      <td>17337.000000</td>\n",
       "      <td>17337.000000</td>\n",
       "      <td>17337.000000</td>\n",
       "      <td>17337.000000</td>\n",
       "      <td>17337.000000</td>\n",
       "      <td>17337.000000</td>\n",
       "      <td>...</td>\n",
       "      <td>17337.000000</td>\n",
       "      <td>17337.000000</td>\n",
       "      <td>17337.000000</td>\n",
       "      <td>17337.000000</td>\n",
       "      <td>17337.000000</td>\n",
       "      <td>17337.00000</td>\n",
       "      <td>17337.000000</td>\n",
       "      <td>17337.000000</td>\n",
       "      <td>17337.000000</td>\n",
       "      <td>17337.000000</td>\n",
       "    </tr>\n",
       "    <tr>\n",
       "      <th>mean</th>\n",
       "      <td>0.054949</td>\n",
       "      <td>0.216849</td>\n",
       "      <td>-0.018675</td>\n",
       "      <td>0.122853</td>\n",
       "      <td>0.108143</td>\n",
       "      <td>0.131839</td>\n",
       "      <td>-0.048361</td>\n",
       "      <td>-0.348987</td>\n",
       "      <td>-0.066166</td>\n",
       "      <td>-0.024138</td>\n",
       "      <td>...</td>\n",
       "      <td>0.085078</td>\n",
       "      <td>0.431332</td>\n",
       "      <td>21.112707</td>\n",
       "      <td>3.731788</td>\n",
       "      <td>0.026302</td>\n",
       "      <td>0.94307</td>\n",
       "      <td>0.125800</td>\n",
       "      <td>0.166465</td>\n",
       "      <td>11.075734</td>\n",
       "      <td>0.774990</td>\n",
       "    </tr>\n",
       "    <tr>\n",
       "      <th>std</th>\n",
       "      <td>0.531905</td>\n",
       "      <td>0.524361</td>\n",
       "      <td>0.618291</td>\n",
       "      <td>0.532737</td>\n",
       "      <td>0.539209</td>\n",
       "      <td>0.559922</td>\n",
       "      <td>0.617425</td>\n",
       "      <td>0.580215</td>\n",
       "      <td>0.647401</td>\n",
       "      <td>0.542228</td>\n",
       "      <td>...</td>\n",
       "      <td>0.537663</td>\n",
       "      <td>1.038387</td>\n",
       "      <td>42.273584</td>\n",
       "      <td>4.806289</td>\n",
       "      <td>0.165355</td>\n",
       "      <td>2.78561</td>\n",
       "      <td>0.390135</td>\n",
       "      <td>1.162887</td>\n",
       "      <td>9.326332</td>\n",
       "      <td>0.417601</td>\n",
       "    </tr>\n",
       "    <tr>\n",
       "      <th>min</th>\n",
       "      <td>-2.835500</td>\n",
       "      <td>-2.193600</td>\n",
       "      <td>-2.466000</td>\n",
       "      <td>-2.702200</td>\n",
       "      <td>-2.461600</td>\n",
       "      <td>-2.888700</td>\n",
       "      <td>-2.310500</td>\n",
       "      <td>-2.553100</td>\n",
       "      <td>-2.379700</td>\n",
       "      <td>-2.272100</td>\n",
       "      <td>...</td>\n",
       "      <td>0.000000</td>\n",
       "      <td>0.000000</td>\n",
       "      <td>0.000000</td>\n",
       "      <td>0.000000</td>\n",
       "      <td>0.000000</td>\n",
       "      <td>0.00000</td>\n",
       "      <td>0.000000</td>\n",
       "      <td>0.000000</td>\n",
       "      <td>1.000000</td>\n",
       "      <td>0.000000</td>\n",
       "    </tr>\n",
       "    <tr>\n",
       "      <th>25%</th>\n",
       "      <td>-0.236800</td>\n",
       "      <td>0.000000</td>\n",
       "      <td>-0.464890</td>\n",
       "      <td>-0.242410</td>\n",
       "      <td>-0.217620</td>\n",
       "      <td>-0.151630</td>\n",
       "      <td>-0.496880</td>\n",
       "      <td>-0.674350</td>\n",
       "      <td>-0.353810</td>\n",
       "      <td>-0.315140</td>\n",
       "      <td>...</td>\n",
       "      <td>0.000000</td>\n",
       "      <td>0.000000</td>\n",
       "      <td>3.000000</td>\n",
       "      <td>0.000000</td>\n",
       "      <td>0.000000</td>\n",
       "      <td>0.00000</td>\n",
       "      <td>0.000000</td>\n",
       "      <td>0.000000</td>\n",
       "      <td>4.000000</td>\n",
       "      <td>1.000000</td>\n",
       "    </tr>\n",
       "    <tr>\n",
       "      <th>50%</th>\n",
       "      <td>0.000000</td>\n",
       "      <td>0.130080</td>\n",
       "      <td>0.000000</td>\n",
       "      <td>0.000000</td>\n",
       "      <td>0.082448</td>\n",
       "      <td>0.022945</td>\n",
       "      <td>-0.009358</td>\n",
       "      <td>-0.262560</td>\n",
       "      <td>0.000000</td>\n",
       "      <td>0.000000</td>\n",
       "      <td>...</td>\n",
       "      <td>0.000000</td>\n",
       "      <td>0.000000</td>\n",
       "      <td>9.000000</td>\n",
       "      <td>3.000000</td>\n",
       "      <td>0.000000</td>\n",
       "      <td>0.00000</td>\n",
       "      <td>0.000000</td>\n",
       "      <td>0.000000</td>\n",
       "      <td>9.000000</td>\n",
       "      <td>1.000000</td>\n",
       "    </tr>\n",
       "    <tr>\n",
       "      <th>75%</th>\n",
       "      <td>0.418000</td>\n",
       "      <td>0.571380</td>\n",
       "      <td>0.348590</td>\n",
       "      <td>0.525140</td>\n",
       "      <td>0.498890</td>\n",
       "      <td>0.526640</td>\n",
       "      <td>0.280730</td>\n",
       "      <td>0.000000</td>\n",
       "      <td>0.229930</td>\n",
       "      <td>0.174850</td>\n",
       "      <td>...</td>\n",
       "      <td>0.000000</td>\n",
       "      <td>0.000000</td>\n",
       "      <td>18.000000</td>\n",
       "      <td>5.000000</td>\n",
       "      <td>0.000000</td>\n",
       "      <td>0.00000</td>\n",
       "      <td>0.000000</td>\n",
       "      <td>0.000000</td>\n",
       "      <td>15.000000</td>\n",
       "      <td>1.000000</td>\n",
       "    </tr>\n",
       "    <tr>\n",
       "      <th>max</th>\n",
       "      <td>2.908400</td>\n",
       "      <td>2.472200</td>\n",
       "      <td>2.222500</td>\n",
       "      <td>3.134500</td>\n",
       "      <td>2.317700</td>\n",
       "      <td>3.077600</td>\n",
       "      <td>2.494700</td>\n",
       "      <td>2.377700</td>\n",
       "      <td>3.311300</td>\n",
       "      <td>2.765000</td>\n",
       "      <td>...</td>\n",
       "      <td>25.000000</td>\n",
       "      <td>29.000000</td>\n",
       "      <td>603.000000</td>\n",
       "      <td>107.000000</td>\n",
       "      <td>2.000000</td>\n",
       "      <td>80.00000</td>\n",
       "      <td>3.000000</td>\n",
       "      <td>37.000000</td>\n",
       "      <td>75.000000</td>\n",
       "      <td>1.000000</td>\n",
       "    </tr>\n",
       "  </tbody>\n",
       "</table>\n",
       "<p>8 rows × 134 columns</p>\n",
       "</div>"
      ],
      "text/plain": [
       "                FG1           FG2           FG3           FG4           FG5  \\\n",
       "count  17337.000000  17337.000000  17337.000000  17337.000000  17337.000000   \n",
       "mean       0.054949      0.216849     -0.018675      0.122853      0.108143   \n",
       "std        0.531905      0.524361      0.618291      0.532737      0.539209   \n",
       "min       -2.835500     -2.193600     -2.466000     -2.702200     -2.461600   \n",
       "25%       -0.236800      0.000000     -0.464890     -0.242410     -0.217620   \n",
       "50%        0.000000      0.130080      0.000000      0.000000      0.082448   \n",
       "75%        0.418000      0.571380      0.348590      0.525140      0.498890   \n",
       "max        2.908400      2.472200      2.222500      3.134500      2.317700   \n",
       "\n",
       "                FG6           FG7           FG8           FG9          FG10  \\\n",
       "count  17337.000000  17337.000000  17337.000000  17337.000000  17337.000000   \n",
       "mean       0.131839     -0.048361     -0.348987     -0.066166     -0.024138   \n",
       "std        0.559922      0.617425      0.580215      0.647401      0.542228   \n",
       "min       -2.888700     -2.310500     -2.553100     -2.379700     -2.272100   \n",
       "25%       -0.151630     -0.496880     -0.674350     -0.353810     -0.315140   \n",
       "50%        0.022945     -0.009358     -0.262560      0.000000      0.000000   \n",
       "75%        0.526640      0.280730      0.000000      0.229930      0.174850   \n",
       "max        3.077600      2.494700      2.377700      3.311300      2.765000   \n",
       "\n",
       "           ...            NER_ORG       NER_LOC       NER_OTH      SNER_ORG  \\\n",
       "count      ...       17337.000000  17337.000000  17337.000000  17337.000000   \n",
       "mean       ...           0.085078      0.431332     21.112707      3.731788   \n",
       "std        ...           0.537663      1.038387     42.273584      4.806289   \n",
       "min        ...           0.000000      0.000000      0.000000      0.000000   \n",
       "25%        ...           0.000000      0.000000      3.000000      0.000000   \n",
       "50%        ...           0.000000      0.000000      9.000000      3.000000   \n",
       "75%        ...           0.000000      0.000000     18.000000      5.000000   \n",
       "max        ...          25.000000     29.000000    603.000000    107.000000   \n",
       "\n",
       "           SNER_PST     SNER_ADD     SNER_CITY     SNER_NAME           POS  \\\n",
       "count  17337.000000  17337.00000  17337.000000  17337.000000  17337.000000   \n",
       "mean       0.026302      0.94307      0.125800      0.166465     11.075734   \n",
       "std        0.165355      2.78561      0.390135      1.162887      9.326332   \n",
       "min        0.000000      0.00000      0.000000      0.000000      1.000000   \n",
       "25%        0.000000      0.00000      0.000000      0.000000      4.000000   \n",
       "50%        0.000000      0.00000      0.000000      0.000000      9.000000   \n",
       "75%        0.000000      0.00000      0.000000      0.000000     15.000000   \n",
       "max        2.000000     80.00000      3.000000     37.000000     75.000000   \n",
       "\n",
       "                SEP  \n",
       "count  17337.000000  \n",
       "mean       0.774990  \n",
       "std        0.417601  \n",
       "min        0.000000  \n",
       "25%        1.000000  \n",
       "50%        1.000000  \n",
       "75%        1.000000  \n",
       "max        1.000000  \n",
       "\n",
       "[8 rows x 134 columns]"
      ]
     },
     "execution_count": 5,
     "metadata": {},
     "output_type": "execute_result"
    }
   ],
   "source": [
    "train.describe()"
   ]
  },
  {
   "cell_type": "code",
   "execution_count": 6,
   "metadata": {},
   "outputs": [
    {
     "data": {
      "text/plain": [
       "(17337, 135)"
      ]
     },
     "execution_count": 6,
     "metadata": {},
     "output_type": "execute_result"
    }
   ],
   "source": [
    "train.shape"
   ]
  },
  {
   "cell_type": "code",
   "execution_count": 7,
   "metadata": {},
   "outputs": [
    {
     "data": {
      "text/plain": [
       "(array([ 0,  1,  2,  3,  4,  5,  6,  7,  8,  9, 10, 11, 12, 13, 14, 15, 16]),\n",
       " <a list of 17 Text xticklabel objects>)"
      ]
     },
     "execution_count": 7,
     "metadata": {},
     "output_type": "execute_result"
    },
    {
     "data": {
      "image/png": "[encoded data removed]",
      "text/plain": [
       "<Figure size 720x432 with 1 Axes>"
      ]
     },
     "metadata": {
      "needs_background": "light"
     },
     "output_type": "display_data"
    }
   ],
   "source": [
    "plt.figure(figsize=(10,6))\n",
    "sns.countplot(train[\"LABEL\"])\n",
    "plt.xticks(rotation=90)"
   ]
  },
  {
   "cell_type": "code",
   "execution_count": 8,
   "metadata": {},
   "outputs": [
    {
     "data": {
      "text/plain": [
       "FG1          0\n",
       "FG2          0\n",
       "FG3          0\n",
       "FG4          0\n",
       "FG5          0\n",
       "FG6          0\n",
       "FG7          0\n",
       "FG8          0\n",
       "FG9          0\n",
       "FG10         0\n",
       "FG11         0\n",
       "FG12         0\n",
       "FG13         0\n",
       "FG14         0\n",
       "FG15         0\n",
       "FG16         0\n",
       "FG17         0\n",
       "FG18         0\n",
       "FG19         0\n",
       "FG20         0\n",
       "FG21         0\n",
       "FG22         0\n",
       "FG23         0\n",
       "FG24         0\n",
       "FG25         0\n",
       "FG26         0\n",
       "FG27         0\n",
       "FG28         0\n",
       "FG29         0\n",
       "FG30         0\n",
       "            ..\n",
       "CG43         0\n",
       "CG44         0\n",
       "CG45         0\n",
       "CG46         0\n",
       "CG47         0\n",
       "CG48         0\n",
       "CG49         0\n",
       "CG50         0\n",
       "C_TITLE      0\n",
       "C_AUTH       0\n",
       "C_AFF        0\n",
       "C_ABS        0\n",
       "C_HIGL       0\n",
       "C_CORR       0\n",
       "C_GRANT      0\n",
       "C_FUND       0\n",
       "C_KEYW       0\n",
       "C_KEYSW      0\n",
       "NER_PER      0\n",
       "NER_ORG      0\n",
       "NER_LOC      0\n",
       "NER_OTH      0\n",
       "SNER_ORG     0\n",
       "SNER_PST     0\n",
       "SNER_ADD     0\n",
       "SNER_CITY    0\n",
       "SNER_NAME    0\n",
       "POS          0\n",
       "SEP          0\n",
       "LABEL        0\n",
       "Length: 135, dtype: int64"
      ]
     },
     "execution_count": 8,
     "metadata": {},
     "output_type": "execute_result"
    }
   ],
   "source": [
    "# Checking the missing values\n",
    "\n",
    "train.isnull().sum()"
   ]
  },
  {
   "cell_type": "code",
   "execution_count": 9,
   "metadata": {},
   "outputs": [
    {
     "data": {
      "text/plain": [
       "<matplotlib.axes._subplots.AxesSubplot at 0x251df41aba8>"
      ]
     },
     "execution_count": 9,
     "metadata": {},
     "output_type": "execute_result"
    },
    {
     "data": {
      "image/png": "[encoded data removed]",
      "text/plain": [
       "<Figure size 432x288 with 2 Axes>"
      ]
     },
     "metadata": {
      "needs_background": "light"
     },
     "output_type": "display_data"
    }
   ],
   "source": [
    "sns.heatmap(train.isnull())"
   ]
  },
  {
   "cell_type": "markdown",
   "metadata": {},
   "source": [
    "##### There is no missing values in the data."
   ]
  },
  {
   "cell_type": "code",
   "execution_count": 10,
   "metadata": {},
   "outputs": [
    {
     "data": {
      "image/png": "[encoded data removed]",
      "text/plain": [
       "<Figure size 1800x1800 with 2 Axes>"
      ]
     },
     "metadata": {
      "needs_background": "light"
     },
     "output_type": "display_data"
    }
   ],
   "source": [
    "sns.heatmap(train.corr(),linewidth=1,cmap='RdYlGn')\n",
    "fig=plt.gcf()\n",
    "fig.set_size_inches(25,25)\n",
    "#sns.set(font_scale=1.5)\n",
    "plt.show()"
   ]
  },
  {
   "cell_type": "markdown",
   "metadata": {},
   "source": [
    "### Few features that shows good correlation with eachother are shown below"
   ]
  },
  {
   "cell_type": "code",
   "execution_count": 11,
   "metadata": {},
   "outputs": [
    {
     "data": {
      "text/plain": [
       "array([[1.        , 0.99470757],\n",
       "       [0.99470757, 1.        ]])"
      ]
     },
     "execution_count": 11,
     "metadata": {},
     "output_type": "execute_result"
    }
   ],
   "source": [
    "np.corrcoef(train.LEN, train.NER_OTH)"
   ]
  },
  {
   "cell_type": "code",
   "execution_count": 12,
   "metadata": {},
   "outputs": [
    {
     "data": {
      "text/plain": [
       "array([[1.        , 0.87411196],\n",
       "       [0.87411196, 1.        ]])"
      ]
     },
     "execution_count": 12,
     "metadata": {},
     "output_type": "execute_result"
    }
   ],
   "source": [
    "np.corrcoef(train.LEN, train.DP_DOBJ)"
   ]
  },
  {
   "cell_type": "code",
   "execution_count": 13,
   "metadata": {},
   "outputs": [
    {
     "data": {
      "text/plain": [
       "array([[1.        , 0.85974539],\n",
       "       [0.85974539, 1.        ]])"
      ]
     },
     "execution_count": 13,
     "metadata": {},
     "output_type": "execute_result"
    }
   ],
   "source": [
    "np.corrcoef(train.NER_OTH,train.DP_DOBJ)"
   ]
  },
  {
   "cell_type": "code",
   "execution_count": 14,
   "metadata": {},
   "outputs": [
    {
     "data": {
      "text/plain": [
       "array([[1.        , 0.94338381],\n",
       "       [0.94338381, 1.        ]])"
      ]
     },
     "execution_count": 14,
     "metadata": {},
     "output_type": "execute_result"
    }
   ],
   "source": [
    "np.corrcoef(train.NER_OTH, train.DP_PREP)"
   ]
  },
  {
   "cell_type": "code",
   "execution_count": 15,
   "metadata": {},
   "outputs": [
    {
     "data": {
      "text/plain": [
       "array([[1.        , 0.94277409],\n",
       "       [0.94277409, 1.        ]])"
      ]
     },
     "execution_count": 15,
     "metadata": {},
     "output_type": "execute_result"
    }
   ],
   "source": [
    "np.corrcoef(train.NER_OTH, train.DP_POBJ)"
   ]
  },
  {
   "cell_type": "code",
   "execution_count": 16,
   "metadata": {},
   "outputs": [
    {
     "data": {
      "text/plain": [
       "array([[1.        , 0.94684823],\n",
       "       [0.94684823, 1.        ]])"
      ]
     },
     "execution_count": 16,
     "metadata": {},
     "output_type": "execute_result"
    }
   ],
   "source": [
    "np.corrcoef(train.CG49, train.C_KEYW)"
   ]
  },
  {
   "cell_type": "code",
   "execution_count": 17,
   "metadata": {},
   "outputs": [
    {
     "data": {
      "text/plain": [
       "array([[1.        , 0.85839535],\n",
       "       [0.85839535, 1.        ]])"
      ]
     },
     "execution_count": 17,
     "metadata": {},
     "output_type": "execute_result"
    }
   ],
   "source": [
    "np.corrcoef(train.CG1, train.CG13)"
   ]
  },
  {
   "cell_type": "code",
   "execution_count": 18,
   "metadata": {},
   "outputs": [
    {
     "data": {
      "text/plain": [
       "<matplotlib.collections.PathCollection at 0x251dfc4ca90>"
      ]
     },
     "execution_count": 18,
     "metadata": {},
     "output_type": "execute_result"
    },
    {
     "data": {
      "image/png": "[encoded data removed]",
      "text/plain": [
       "<Figure size 432x288 with 1 Axes>"
      ]
     },
     "metadata": {
      "needs_background": "light"
     },
     "output_type": "display_data"
    }
   ],
   "source": [
    "plt.scatter(train.LEN, train.NER_OTH)"
   ]
  },
  {
   "cell_type": "code",
   "execution_count": 19,
   "metadata": {},
   "outputs": [
    {
     "data": {
      "text/plain": [
       "<matplotlib.collections.PathCollection at 0x251dfcbf5c0>"
      ]
     },
     "execution_count": 19,
     "metadata": {},
     "output_type": "execute_result"
    },
    {
     "data": {
      "image/png": "[encoded data removed]",
      "text/plain": [
       "<Figure size 432x288 with 1 Axes>"
      ]
     },
     "metadata": {
      "needs_background": "light"
     },
     "output_type": "display_data"
    }
   ],
   "source": [
    "plt.scatter(train.NER_OTH, train.DP_PREP)"
   ]
  },
  {
   "cell_type": "code",
   "execution_count": 20,
   "metadata": {},
   "outputs": [
    {
     "data": {
      "text/plain": [
       "<matplotlib.collections.PathCollection at 0x251df06b630>"
      ]
     },
     "execution_count": 20,
     "metadata": {},
     "output_type": "execute_result"
    },
    {
     "data": {
      "image/png": "[encoded data removed]",
      "text/plain": [
       "<Figure size 432x288 with 1 Axes>"
      ]
     },
     "metadata": {
      "needs_background": "light"
     },
     "output_type": "display_data"
    }
   ],
   "source": [
    "plt.scatter(train.DP_DOBJ, train.LEN)"
   ]
  },
  {
   "cell_type": "code",
   "execution_count": 21,
   "metadata": {},
   "outputs": [
    {
     "name": "stderr",
     "output_type": "stream",
     "text": [
      "C:\\Users\\Aditya\\Anaconda3\\lib\\site-packages\\scipy\\stats\\stats.py:1713: FutureWarning: Using a non-tuple sequence for multidimensional indexing is deprecated; use `arr[tuple(seq)]` instead of `arr[seq]`. In the future this will be interpreted as an array index, `arr[np.array(seq)]`, which will result either in an error or a different result.\n",
      "  return np.add.reduce(sorted[indexer] * weights, axis=axis) / sumval\n"
     ]
    },
    {
     "data": {
      "text/plain": [
       "<matplotlib.axes._subplots.AxesSubplot at 0x251df078978>"
      ]
     },
     "execution_count": 21,
     "metadata": {},
     "output_type": "execute_result"
    },
    {
     "data": {
      "image/png": "[encoded data removed]",
      "text/plain": [
       "<Figure size 432x288 with 1 Axes>"
      ]
     },
     "metadata": {
      "needs_background": "light"
     },
     "output_type": "display_data"
    }
   ],
   "source": [
    "sns.distplot(train.CG20)"
   ]
  },
  {
   "cell_type": "code",
   "execution_count": 22,
   "metadata": {},
   "outputs": [
    {
     "data": {
      "text/plain": [
       "<matplotlib.axes._subplots.AxesSubplot at 0x251e007fbe0>"
      ]
     },
     "execution_count": 22,
     "metadata": {},
     "output_type": "execute_result"
    },
    {
     "data": {
      "image/png": "[encoded data removed]",
      "text/plain": [
       "<Figure size 432x288 with 1 Axes>"
      ]
     },
     "metadata": {
      "needs_background": "light"
     },
     "output_type": "display_data"
    }
   ],
   "source": [
    "sns.distplot(train.FG20)"
   ]
  },
  {
   "cell_type": "code",
   "execution_count": 23,
   "metadata": {},
   "outputs": [
    {
     "data": {
      "text/html": [
       "<div>\n",
       "<style scoped>\n",
       "    .dataframe tbody tr th:only-of-type {\n",
       "        vertical-align: middle;\n",
       "    }\n",
       "\n",
       "    .dataframe tbody tr th {\n",
       "        vertical-align: top;\n",
       "    }\n",
       "\n",
       "    .dataframe thead th {\n",
       "        text-align: right;\n",
       "    }\n",
       "</style>\n",
       "<table border=\"1\" class=\"dataframe\">\n",
       "  <thead>\n",
       "    <tr style=\"text-align: right;\">\n",
       "      <th></th>\n",
       "      <th>FG1</th>\n",
       "      <th>FG2</th>\n",
       "      <th>FG3</th>\n",
       "      <th>FG4</th>\n",
       "      <th>FG5</th>\n",
       "      <th>FG6</th>\n",
       "      <th>FG7</th>\n",
       "      <th>FG8</th>\n",
       "      <th>FG9</th>\n",
       "      <th>FG10</th>\n",
       "      <th>...</th>\n",
       "      <th>NER_ORG</th>\n",
       "      <th>NER_LOC</th>\n",
       "      <th>NER_OTH</th>\n",
       "      <th>SNER_ORG</th>\n",
       "      <th>SNER_PST</th>\n",
       "      <th>SNER_ADD</th>\n",
       "      <th>SNER_CITY</th>\n",
       "      <th>SNER_NAME</th>\n",
       "      <th>POS</th>\n",
       "      <th>SEP</th>\n",
       "    </tr>\n",
       "  </thead>\n",
       "  <tbody>\n",
       "    <tr>\n",
       "      <th>0</th>\n",
       "      <td>-1.23830</td>\n",
       "      <td>0.99487</td>\n",
       "      <td>-0.73677</td>\n",
       "      <td>1.07730</td>\n",
       "      <td>0.25410</td>\n",
       "      <td>0.081738</td>\n",
       "      <td>0.17186</td>\n",
       "      <td>0.59812</td>\n",
       "      <td>-0.43664</td>\n",
       "      <td>0.029587</td>\n",
       "      <td>...</td>\n",
       "      <td>0</td>\n",
       "      <td>0</td>\n",
       "      <td>2</td>\n",
       "      <td>2</td>\n",
       "      <td>0</td>\n",
       "      <td>0</td>\n",
       "      <td>0</td>\n",
       "      <td>0</td>\n",
       "      <td>1</td>\n",
       "      <td>1</td>\n",
       "    </tr>\n",
       "    <tr>\n",
       "      <th>1</th>\n",
       "      <td>-1.44060</td>\n",
       "      <td>0.58249</td>\n",
       "      <td>-1.29030</td>\n",
       "      <td>0.64414</td>\n",
       "      <td>-0.38313</td>\n",
       "      <td>-0.413500</td>\n",
       "      <td>-1.23140</td>\n",
       "      <td>-0.34478</td>\n",
       "      <td>0.76907</td>\n",
       "      <td>-0.921770</td>\n",
       "      <td>...</td>\n",
       "      <td>0</td>\n",
       "      <td>0</td>\n",
       "      <td>12</td>\n",
       "      <td>5</td>\n",
       "      <td>0</td>\n",
       "      <td>0</td>\n",
       "      <td>0</td>\n",
       "      <td>0</td>\n",
       "      <td>2</td>\n",
       "      <td>1</td>\n",
       "    </tr>\n",
       "    <tr>\n",
       "      <th>2</th>\n",
       "      <td>0.00000</td>\n",
       "      <td>0.00000</td>\n",
       "      <td>0.00000</td>\n",
       "      <td>0.00000</td>\n",
       "      <td>0.00000</td>\n",
       "      <td>0.000000</td>\n",
       "      <td>0.00000</td>\n",
       "      <td>0.00000</td>\n",
       "      <td>0.00000</td>\n",
       "      <td>0.000000</td>\n",
       "      <td>...</td>\n",
       "      <td>0</td>\n",
       "      <td>0</td>\n",
       "      <td>26</td>\n",
       "      <td>0</td>\n",
       "      <td>0</td>\n",
       "      <td>6</td>\n",
       "      <td>0</td>\n",
       "      <td>0</td>\n",
       "      <td>3</td>\n",
       "      <td>1</td>\n",
       "    </tr>\n",
       "    <tr>\n",
       "      <th>3</th>\n",
       "      <td>2.02380</td>\n",
       "      <td>-0.51973</td>\n",
       "      <td>-1.12920</td>\n",
       "      <td>0.26308</td>\n",
       "      <td>0.18482</td>\n",
       "      <td>-0.051798</td>\n",
       "      <td>-0.00002</td>\n",
       "      <td>-0.15213</td>\n",
       "      <td>-1.88080</td>\n",
       "      <td>0.437770</td>\n",
       "      <td>...</td>\n",
       "      <td>0</td>\n",
       "      <td>2</td>\n",
       "      <td>26</td>\n",
       "      <td>15</td>\n",
       "      <td>0</td>\n",
       "      <td>5</td>\n",
       "      <td>0</td>\n",
       "      <td>0</td>\n",
       "      <td>4</td>\n",
       "      <td>1</td>\n",
       "    </tr>\n",
       "    <tr>\n",
       "      <th>4</th>\n",
       "      <td>0.90512</td>\n",
       "      <td>0.13008</td>\n",
       "      <td>1.09170</td>\n",
       "      <td>0.52514</td>\n",
       "      <td>-0.21762</td>\n",
       "      <td>-0.222880</td>\n",
       "      <td>-0.69978</td>\n",
       "      <td>-0.60544</td>\n",
       "      <td>0.80407</td>\n",
       "      <td>-0.315140</td>\n",
       "      <td>...</td>\n",
       "      <td>0</td>\n",
       "      <td>0</td>\n",
       "      <td>6</td>\n",
       "      <td>0</td>\n",
       "      <td>0</td>\n",
       "      <td>0</td>\n",
       "      <td>0</td>\n",
       "      <td>0</td>\n",
       "      <td>5</td>\n",
       "      <td>1</td>\n",
       "    </tr>\n",
       "  </tbody>\n",
       "</table>\n",
       "<p>5 rows × 134 columns</p>\n",
       "</div>"
      ],
      "text/plain": [
       "       FG1      FG2      FG3      FG4      FG5       FG6      FG7      FG8  \\\n",
       "0 -1.23830  0.99487 -0.73677  1.07730  0.25410  0.081738  0.17186  0.59812   \n",
       "1 -1.44060  0.58249 -1.29030  0.64414 -0.38313 -0.413500 -1.23140 -0.34478   \n",
       "2  0.00000  0.00000  0.00000  0.00000  0.00000  0.000000  0.00000  0.00000   \n",
       "3  2.02380 -0.51973 -1.12920  0.26308  0.18482 -0.051798 -0.00002 -0.15213   \n",
       "4  0.90512  0.13008  1.09170  0.52514 -0.21762 -0.222880 -0.69978 -0.60544   \n",
       "\n",
       "       FG9      FG10 ...   NER_ORG  NER_LOC  NER_OTH  SNER_ORG  SNER_PST  \\\n",
       "0 -0.43664  0.029587 ...         0        0        2         2         0   \n",
       "1  0.76907 -0.921770 ...         0        0       12         5         0   \n",
       "2  0.00000  0.000000 ...         0        0       26         0         0   \n",
       "3 -1.88080  0.437770 ...         0        2       26        15         0   \n",
       "4  0.80407 -0.315140 ...         0        0        6         0         0   \n",
       "\n",
       "   SNER_ADD  SNER_CITY  SNER_NAME  POS  SEP  \n",
       "0         0          0          0    1    1  \n",
       "1         0          0          0    2    1  \n",
       "2         6          0          0    3    1  \n",
       "3         5          0          0    4    1  \n",
       "4         0          0          0    5    1  \n",
       "\n",
       "[5 rows x 134 columns]"
      ]
     },
     "execution_count": 23,
     "metadata": {},
     "output_type": "execute_result"
    }
   ],
   "source": [
    "newtrain = train.drop(\"LABEL\", axis =1)\n",
    "\n",
    "newtrain.head()"
   ]
  },
  {
   "cell_type": "markdown",
   "metadata": {},
   "source": [
    "#### Scaling the Dataset"
   ]
  },
  {
   "cell_type": "code",
   "execution_count": 24,
   "metadata": {},
   "outputs": [],
   "source": [
    "from sklearn.preprocessing import StandardScaler"
   ]
  },
  {
   "cell_type": "code",
   "execution_count": 25,
   "metadata": {},
   "outputs": [],
   "source": [
    "sc = StandardScaler()"
   ]
  },
  {
   "cell_type": "code",
   "execution_count": 26,
   "metadata": {},
   "outputs": [
    {
     "name": "stderr",
     "output_type": "stream",
     "text": [
      "C:\\Users\\Aditya\\Anaconda3\\lib\\site-packages\\sklearn\\preprocessing\\data.py:625: DataConversionWarning: Data with input dtype int64, float64 were all converted to float64 by StandardScaler.\n",
      "  return self.partial_fit(X, y)\n",
      "C:\\Users\\Aditya\\Anaconda3\\lib\\site-packages\\sklearn\\base.py:462: DataConversionWarning: Data with input dtype int64, float64 were all converted to float64 by StandardScaler.\n",
      "  return self.fit(X, **fit_params).transform(X)\n"
     ]
    }
   ],
   "source": [
    "x = pd.DataFrame(sc.fit_transform(newtrain), columns = newtrain.columns)"
   ]
  },
  {
   "cell_type": "code",
   "execution_count": 27,
   "metadata": {},
   "outputs": [
    {
     "data": {
      "text/html": [
       "<div>\n",
       "<style scoped>\n",
       "    .dataframe tbody tr th:only-of-type {\n",
       "        vertical-align: middle;\n",
       "    }\n",
       "\n",
       "    .dataframe tbody tr th {\n",
       "        vertical-align: top;\n",
       "    }\n",
       "\n",
       "    .dataframe thead th {\n",
       "        text-align: right;\n",
       "    }\n",
       "</style>\n",
       "<table border=\"1\" class=\"dataframe\">\n",
       "  <thead>\n",
       "    <tr style=\"text-align: right;\">\n",
       "      <th></th>\n",
       "      <th>FG1</th>\n",
       "      <th>FG2</th>\n",
       "      <th>FG3</th>\n",
       "      <th>FG4</th>\n",
       "      <th>FG5</th>\n",
       "      <th>FG6</th>\n",
       "      <th>FG7</th>\n",
       "      <th>FG8</th>\n",
       "      <th>FG9</th>\n",
       "      <th>FG10</th>\n",
       "      <th>...</th>\n",
       "      <th>NER_ORG</th>\n",
       "      <th>NER_LOC</th>\n",
       "      <th>NER_OTH</th>\n",
       "      <th>SNER_ORG</th>\n",
       "      <th>SNER_PST</th>\n",
       "      <th>SNER_ADD</th>\n",
       "      <th>SNER_CITY</th>\n",
       "      <th>SNER_NAME</th>\n",
       "      <th>POS</th>\n",
       "      <th>SEP</th>\n",
       "    </tr>\n",
       "  </thead>\n",
       "  <tbody>\n",
       "    <tr>\n",
       "      <th>0</th>\n",
       "      <td>-2.431423</td>\n",
       "      <td>1.483793</td>\n",
       "      <td>-1.161452</td>\n",
       "      <td>1.791645</td>\n",
       "      <td>0.270695</td>\n",
       "      <td>-0.089481</td>\n",
       "      <td>0.356688</td>\n",
       "      <td>1.632386</td>\n",
       "      <td>-0.572265</td>\n",
       "      <td>0.099085</td>\n",
       "      <td>...</td>\n",
       "      <td>-0.158242</td>\n",
       "      <td>-0.415398</td>\n",
       "      <td>-0.452132</td>\n",
       "      <td>-0.360327</td>\n",
       "      <td>-0.159069</td>\n",
       "      <td>-0.338560</td>\n",
       "      <td>-0.322463</td>\n",
       "      <td>-0.143152</td>\n",
       "      <td>-1.080384</td>\n",
       "      <td>0.538832</td>\n",
       "    </tr>\n",
       "    <tr>\n",
       "      <th>1</th>\n",
       "      <td>-2.811765</td>\n",
       "      <td>0.697328</td>\n",
       "      <td>-2.056736</td>\n",
       "      <td>0.978536</td>\n",
       "      <td>-0.911127</td>\n",
       "      <td>-0.973984</td>\n",
       "      <td>-1.916140</td>\n",
       "      <td>0.007252</td>\n",
       "      <td>1.290173</td>\n",
       "      <td>-1.655500</td>\n",
       "      <td>...</td>\n",
       "      <td>-0.158242</td>\n",
       "      <td>-0.415398</td>\n",
       "      <td>-0.215571</td>\n",
       "      <td>0.263873</td>\n",
       "      <td>-0.159069</td>\n",
       "      <td>-0.338560</td>\n",
       "      <td>-0.322463</td>\n",
       "      <td>-0.143152</td>\n",
       "      <td>-0.973158</td>\n",
       "      <td>0.538832</td>\n",
       "    </tr>\n",
       "    <tr>\n",
       "      <th>2</th>\n",
       "      <td>-0.103309</td>\n",
       "      <td>-0.413561</td>\n",
       "      <td>0.030206</td>\n",
       "      <td>-0.230614</td>\n",
       "      <td>-0.200565</td>\n",
       "      <td>-0.235467</td>\n",
       "      <td>0.078330</td>\n",
       "      <td>0.601497</td>\n",
       "      <td>0.102205</td>\n",
       "      <td>0.044518</td>\n",
       "      <td>...</td>\n",
       "      <td>-0.158242</td>\n",
       "      <td>-0.415398</td>\n",
       "      <td>0.115614</td>\n",
       "      <td>-0.776461</td>\n",
       "      <td>-0.159069</td>\n",
       "      <td>1.815429</td>\n",
       "      <td>-0.322463</td>\n",
       "      <td>-0.143152</td>\n",
       "      <td>-0.865932</td>\n",
       "      <td>0.538832</td>\n",
       "    </tr>\n",
       "    <tr>\n",
       "      <th>3</th>\n",
       "      <td>3.701616</td>\n",
       "      <td>-1.404758</td>\n",
       "      <td>-1.796171</td>\n",
       "      <td>0.263228</td>\n",
       "      <td>0.142206</td>\n",
       "      <td>-0.327979</td>\n",
       "      <td>0.078298</td>\n",
       "      <td>0.339293</td>\n",
       "      <td>-2.803031</td>\n",
       "      <td>0.851896</td>\n",
       "      <td>...</td>\n",
       "      <td>-0.158242</td>\n",
       "      <td>1.510721</td>\n",
       "      <td>0.115614</td>\n",
       "      <td>2.344540</td>\n",
       "      <td>-0.159069</td>\n",
       "      <td>1.456431</td>\n",
       "      <td>-0.322463</td>\n",
       "      <td>-0.143152</td>\n",
       "      <td>-0.758705</td>\n",
       "      <td>0.538832</td>\n",
       "    </tr>\n",
       "    <tr>\n",
       "      <th>4</th>\n",
       "      <td>1.598397</td>\n",
       "      <td>-0.165481</td>\n",
       "      <td>1.795930</td>\n",
       "      <td>0.755155</td>\n",
       "      <td>-0.604168</td>\n",
       "      <td>-0.633534</td>\n",
       "      <td>-1.055088</td>\n",
       "      <td>-0.442009</td>\n",
       "      <td>1.344237</td>\n",
       "      <td>-0.536694</td>\n",
       "      <td>...</td>\n",
       "      <td>-0.158242</td>\n",
       "      <td>-0.415398</td>\n",
       "      <td>-0.357508</td>\n",
       "      <td>-0.776461</td>\n",
       "      <td>-0.159069</td>\n",
       "      <td>-0.338560</td>\n",
       "      <td>-0.322463</td>\n",
       "      <td>-0.143152</td>\n",
       "      <td>-0.651479</td>\n",
       "      <td>0.538832</td>\n",
       "    </tr>\n",
       "  </tbody>\n",
       "</table>\n",
       "<p>5 rows × 134 columns</p>\n",
       "</div>"
      ],
      "text/plain": [
       "        FG1       FG2       FG3       FG4       FG5       FG6       FG7  \\\n",
       "0 -2.431423  1.483793 -1.161452  1.791645  0.270695 -0.089481  0.356688   \n",
       "1 -2.811765  0.697328 -2.056736  0.978536 -0.911127 -0.973984 -1.916140   \n",
       "2 -0.103309 -0.413561  0.030206 -0.230614 -0.200565 -0.235467  0.078330   \n",
       "3  3.701616 -1.404758 -1.796171  0.263228  0.142206 -0.327979  0.078298   \n",
       "4  1.598397 -0.165481  1.795930  0.755155 -0.604168 -0.633534 -1.055088   \n",
       "\n",
       "        FG8       FG9      FG10    ...      NER_ORG   NER_LOC   NER_OTH  \\\n",
       "0  1.632386 -0.572265  0.099085    ...    -0.158242 -0.415398 -0.452132   \n",
       "1  0.007252  1.290173 -1.655500    ...    -0.158242 -0.415398 -0.215571   \n",
       "2  0.601497  0.102205  0.044518    ...    -0.158242 -0.415398  0.115614   \n",
       "3  0.339293 -2.803031  0.851896    ...    -0.158242  1.510721  0.115614   \n",
       "4 -0.442009  1.344237 -0.536694    ...    -0.158242 -0.415398 -0.357508   \n",
       "\n",
       "   SNER_ORG  SNER_PST  SNER_ADD  SNER_CITY  SNER_NAME       POS       SEP  \n",
       "0 -0.360327 -0.159069 -0.338560  -0.322463  -0.143152 -1.080384  0.538832  \n",
       "1  0.263873 -0.159069 -0.338560  -0.322463  -0.143152 -0.973158  0.538832  \n",
       "2 -0.776461 -0.159069  1.815429  -0.322463  -0.143152 -0.865932  0.538832  \n",
       "3  2.344540 -0.159069  1.456431  -0.322463  -0.143152 -0.758705  0.538832  \n",
       "4 -0.776461 -0.159069 -0.338560  -0.322463  -0.143152 -0.651479  0.538832  \n",
       "\n",
       "[5 rows x 134 columns]"
      ]
     },
     "execution_count": 27,
     "metadata": {},
     "output_type": "execute_result"
    }
   ],
   "source": [
    "x.head()\n"
   ]
  },
  {
   "cell_type": "code",
   "execution_count": 28,
   "metadata": {},
   "outputs": [
    {
     "data": {
      "text/plain": [
       "(17337,)"
      ]
     },
     "execution_count": 28,
     "metadata": {},
     "output_type": "execute_result"
    }
   ],
   "source": [
    "y= train[\"LABEL\"]\n",
    "y.shape"
   ]
  },
  {
   "cell_type": "code",
   "execution_count": 29,
   "metadata": {},
   "outputs": [],
   "source": [
    "# Divide the dataset into train and validation set with 80/20 ratio\n",
    "\n",
    "from sklearn.model_selection import train_test_split\n",
    "\n",
    "x_train, x_test, y_train, y_test = train_test_split(x,y, test_size=0.20, random_state=123)"
   ]
  },
  {
   "cell_type": "markdown",
   "metadata": {},
   "source": [
    "### Logistic Regression"
   ]
  },
  {
   "cell_type": "code",
   "execution_count": 30,
   "metadata": {},
   "outputs": [],
   "source": [
    "from sklearn.linear_model import LogisticRegression\n",
    "from sklearn.metrics import accuracy_score, f1_score, cohen_kappa_score, classification_report"
   ]
  },
  {
   "cell_type": "code",
   "execution_count": 31,
   "metadata": {},
   "outputs": [],
   "source": [
    "lr=LogisticRegression()"
   ]
  },
  {
   "cell_type": "code",
   "execution_count": 32,
   "metadata": {},
   "outputs": [
    {
     "name": "stderr",
     "output_type": "stream",
     "text": [
      "C:\\Users\\Aditya\\Anaconda3\\lib\\site-packages\\sklearn\\linear_model\\logistic.py:433: FutureWarning: Default solver will be changed to 'lbfgs' in 0.22. Specify a solver to silence this warning.\n",
      "  FutureWarning)\n",
      "C:\\Users\\Aditya\\Anaconda3\\lib\\site-packages\\sklearn\\linear_model\\logistic.py:460: FutureWarning: Default multi_class will be changed to 'auto' in 0.22. Specify the multi_class option to silence this warning.\n",
      "  \"this warning.\", FutureWarning)\n"
     ]
    }
   ],
   "source": [
    "model_LR=lr.fit(x_train, y_train).predict(x_test)"
   ]
  },
  {
   "cell_type": "code",
   "execution_count": 33,
   "metadata": {},
   "outputs": [
    {
     "data": {
      "text/plain": [
       "0.7848904267589388"
      ]
     },
     "execution_count": 33,
     "metadata": {},
     "output_type": "execute_result"
    }
   ],
   "source": [
    "accuracy_score(y_test,model_LR)"
   ]
  },
  {
   "cell_type": "code",
   "execution_count": 34,
   "metadata": {},
   "outputs": [
    {
     "data": {
      "text/plain": [
       "0.7476554921718062"
      ]
     },
     "execution_count": 34,
     "metadata": {},
     "output_type": "execute_result"
    }
   ],
   "source": [
    "cohen_kappa_score(y_test,model_LR)"
   ]
  },
  {
   "cell_type": "code",
   "execution_count": 35,
   "metadata": {},
   "outputs": [],
   "source": [
    "acc_lr = accuracy_score(y_test,model_LR)"
   ]
  },
  {
   "cell_type": "code",
   "execution_count": 36,
   "metadata": {},
   "outputs": [],
   "source": [
    "cks_lr = cohen_kappa_score(y_test,model_LR)"
   ]
  },
  {
   "cell_type": "markdown",
   "metadata": {},
   "source": [
    "### Decision Tree"
   ]
  },
  {
   "cell_type": "code",
   "execution_count": 37,
   "metadata": {},
   "outputs": [],
   "source": [
    "from sklearn.tree import DecisionTreeClassifier\n",
    "tree=DecisionTreeClassifier()"
   ]
  },
  {
   "cell_type": "code",
   "execution_count": 38,
   "metadata": {},
   "outputs": [],
   "source": [
    "model_DT=tree.fit(x_train, y_train).predict(x_test)"
   ]
  },
  {
   "cell_type": "code",
   "execution_count": 39,
   "metadata": {},
   "outputs": [
    {
     "data": {
      "text/plain": [
       "0.8030565167243368"
      ]
     },
     "execution_count": 39,
     "metadata": {},
     "output_type": "execute_result"
    }
   ],
   "source": [
    "accuracy_score(y_test,model_DT)"
   ]
  },
  {
   "cell_type": "code",
   "execution_count": 40,
   "metadata": {},
   "outputs": [
    {
     "data": {
      "text/plain": [
       "0.7710658558596087"
      ]
     },
     "execution_count": 40,
     "metadata": {},
     "output_type": "execute_result"
    }
   ],
   "source": [
    "cohen_kappa_score(y_test,model_DT)"
   ]
  },
  {
   "cell_type": "code",
   "execution_count": 41,
   "metadata": {},
   "outputs": [],
   "source": [
    "acc_dt = accuracy_score(y_test,model_DT)"
   ]
  },
  {
   "cell_type": "code",
   "execution_count": 42,
   "metadata": {},
   "outputs": [],
   "source": [
    "cks_dt = cohen_kappa_score(y_test,model_DT)"
   ]
  },
  {
   "cell_type": "markdown",
   "metadata": {},
   "source": [
    "### Bagginng Classifier"
   ]
  },
  {
   "cell_type": "code",
   "execution_count": 43,
   "metadata": {},
   "outputs": [],
   "source": [
    "from sklearn.ensemble import BaggingClassifier"
   ]
  },
  {
   "cell_type": "code",
   "execution_count": 44,
   "metadata": {},
   "outputs": [],
   "source": [
    "bg = BaggingClassifier()"
   ]
  },
  {
   "cell_type": "code",
   "execution_count": 45,
   "metadata": {},
   "outputs": [],
   "source": [
    "model_BC = bg.fit(x_train,y_train).predict(x_test)"
   ]
  },
  {
   "cell_type": "code",
   "execution_count": 46,
   "metadata": {},
   "outputs": [
    {
     "data": {
      "text/plain": [
       "0.8310265282583622"
      ]
     },
     "execution_count": 46,
     "metadata": {},
     "output_type": "execute_result"
    }
   ],
   "source": [
    "accuracy_score(y_test,model_BC)"
   ]
  },
  {
   "cell_type": "code",
   "execution_count": 47,
   "metadata": {},
   "outputs": [
    {
     "data": {
      "text/plain": [
       "0.8026415228466031"
      ]
     },
     "execution_count": 47,
     "metadata": {},
     "output_type": "execute_result"
    }
   ],
   "source": [
    "cohen_kappa_score(y_test,model_BC)"
   ]
  },
  {
   "cell_type": "code",
   "execution_count": 48,
   "metadata": {},
   "outputs": [],
   "source": [
    "acc_bagg = accuracy_score(y_test,model_BC)"
   ]
  },
  {
   "cell_type": "code",
   "execution_count": 49,
   "metadata": {},
   "outputs": [],
   "source": [
    "cks_bagg = cohen_kappa_score(y_test,model_BC)"
   ]
  },
  {
   "cell_type": "markdown",
   "metadata": {},
   "source": [
    "### XGBClassifier"
   ]
  },
  {
   "cell_type": "code",
   "execution_count": 50,
   "metadata": {},
   "outputs": [],
   "source": [
    "from xgboost import XGBClassifier"
   ]
  },
  {
   "cell_type": "code",
   "execution_count": 51,
   "metadata": {},
   "outputs": [],
   "source": [
    "XGBR = XGBClassifier()"
   ]
  },
  {
   "cell_type": "code",
   "execution_count": 52,
   "metadata": {},
   "outputs": [],
   "source": [
    "model_XGB=XGBR.fit(np.array(x_train), y_train).predict(np.array(x_test))"
   ]
  },
  {
   "cell_type": "code",
   "execution_count": 53,
   "metadata": {},
   "outputs": [
    {
     "data": {
      "text/plain": [
       "0.8180507497116494"
      ]
     },
     "execution_count": 53,
     "metadata": {},
     "output_type": "execute_result"
    }
   ],
   "source": [
    "accuracy_score(y_test,model_XGB)"
   ]
  },
  {
   "cell_type": "code",
   "execution_count": 54,
   "metadata": {},
   "outputs": [
    {
     "data": {
      "text/plain": [
       "0.7868009384894264"
      ]
     },
     "execution_count": 54,
     "metadata": {},
     "output_type": "execute_result"
    }
   ],
   "source": [
    "cohen_kappa_score(y_test,model_XGB)"
   ]
  },
  {
   "cell_type": "code",
   "execution_count": 55,
   "metadata": {},
   "outputs": [],
   "source": [
    "acc_XGB = accuracy_score(y_test,model_XGB)"
   ]
  },
  {
   "cell_type": "code",
   "execution_count": 56,
   "metadata": {},
   "outputs": [],
   "source": [
    "cks_XGB = cohen_kappa_score(y_test,model_XGB)"
   ]
  },
  {
   "cell_type": "markdown",
   "metadata": {},
   "source": [
    "### AdaBoostClassifier"
   ]
  },
  {
   "cell_type": "code",
   "execution_count": 57,
   "metadata": {},
   "outputs": [],
   "source": [
    "from sklearn.ensemble import AdaBoostClassifier\n",
    "ad=AdaBoostClassifier()"
   ]
  },
  {
   "cell_type": "code",
   "execution_count": 58,
   "metadata": {},
   "outputs": [],
   "source": [
    "model_ADA=ad.fit(x_train, y_train).predict(x_test)"
   ]
  },
  {
   "cell_type": "code",
   "execution_count": 59,
   "metadata": {},
   "outputs": [
    {
     "data": {
      "text/plain": [
       "0.3506343713956171"
      ]
     },
     "execution_count": 59,
     "metadata": {},
     "output_type": "execute_result"
    }
   ],
   "source": [
    "accuracy_score(y_test,model_ADA)"
   ]
  },
  {
   "cell_type": "code",
   "execution_count": 60,
   "metadata": {},
   "outputs": [
    {
     "data": {
      "text/plain": [
       "0.1826073323339641"
      ]
     },
     "execution_count": 60,
     "metadata": {},
     "output_type": "execute_result"
    }
   ],
   "source": [
    "cohen_kappa_score(y_test,model_ADA)"
   ]
  },
  {
   "cell_type": "code",
   "execution_count": 61,
   "metadata": {},
   "outputs": [],
   "source": [
    "acc_ADABoost = accuracy_score(y_test,model_ADA)"
   ]
  },
  {
   "cell_type": "code",
   "execution_count": 62,
   "metadata": {},
   "outputs": [],
   "source": [
    "cks_ADABoost = cohen_kappa_score(y_test,model_ADA)"
   ]
  },
  {
   "cell_type": "markdown",
   "metadata": {},
   "source": [
    "### Gaussian NB"
   ]
  },
  {
   "cell_type": "code",
   "execution_count": 63,
   "metadata": {},
   "outputs": [],
   "source": [
    "from sklearn.naive_bayes import GaussianNB"
   ]
  },
  {
   "cell_type": "code",
   "execution_count": 64,
   "metadata": {},
   "outputs": [],
   "source": [
    "gb=GaussianNB()"
   ]
  },
  {
   "cell_type": "code",
   "execution_count": 65,
   "metadata": {},
   "outputs": [],
   "source": [
    "model_GNB=gb.fit(x_train, y_train).predict(x_test)"
   ]
  },
  {
   "cell_type": "code",
   "execution_count": 66,
   "metadata": {},
   "outputs": [
    {
     "data": {
      "text/plain": [
       "0.44809688581314877"
      ]
     },
     "execution_count": 66,
     "metadata": {},
     "output_type": "execute_result"
    }
   ],
   "source": [
    "accuracy_score(y_test,model_GNB)"
   ]
  },
  {
   "cell_type": "code",
   "execution_count": 67,
   "metadata": {},
   "outputs": [
    {
     "data": {
      "text/plain": [
       "0.40322770752390036"
      ]
     },
     "execution_count": 67,
     "metadata": {},
     "output_type": "execute_result"
    }
   ],
   "source": [
    "cohen_kappa_score(y_test,model_GNB)"
   ]
  },
  {
   "cell_type": "code",
   "execution_count": 68,
   "metadata": {},
   "outputs": [],
   "source": [
    "acc_nb = accuracy_score(y_test,model_GNB)"
   ]
  },
  {
   "cell_type": "code",
   "execution_count": 69,
   "metadata": {},
   "outputs": [],
   "source": [
    "cks_nb = cohen_kappa_score(y_test,model_GNB)"
   ]
  },
  {
   "cell_type": "markdown",
   "metadata": {},
   "source": [
    "### Bernoulli NB"
   ]
  },
  {
   "cell_type": "code",
   "execution_count": 70,
   "metadata": {},
   "outputs": [],
   "source": [
    "from sklearn.naive_bayes import BernoulliNB"
   ]
  },
  {
   "cell_type": "code",
   "execution_count": 71,
   "metadata": {},
   "outputs": [],
   "source": [
    "bn=BernoulliNB()"
   ]
  },
  {
   "cell_type": "code",
   "execution_count": 72,
   "metadata": {},
   "outputs": [],
   "source": [
    "model_BNB=bn.fit(x_train, y_train).predict(x_test)"
   ]
  },
  {
   "cell_type": "code",
   "execution_count": 73,
   "metadata": {},
   "outputs": [
    {
     "data": {
      "text/plain": [
       "0.5732410611303345"
      ]
     },
     "execution_count": 73,
     "metadata": {},
     "output_type": "execute_result"
    }
   ],
   "source": [
    "accuracy_score(y_test, model_BNB)"
   ]
  },
  {
   "cell_type": "code",
   "execution_count": 74,
   "metadata": {},
   "outputs": [
    {
     "data": {
      "text/plain": [
       "0.5139876366372403"
      ]
     },
     "execution_count": 74,
     "metadata": {},
     "output_type": "execute_result"
    }
   ],
   "source": [
    "cohen_kappa_score(y_test,model_BNB)"
   ]
  },
  {
   "cell_type": "code",
   "execution_count": 75,
   "metadata": {},
   "outputs": [],
   "source": [
    "acc_bnb = accuracy_score(y_test, model_BNB)"
   ]
  },
  {
   "cell_type": "code",
   "execution_count": 76,
   "metadata": {},
   "outputs": [],
   "source": [
    "cks_bnb = cohen_kappa_score(y_test,model_BNB)"
   ]
  },
  {
   "cell_type": "markdown",
   "metadata": {},
   "source": [
    "###  Random Forest"
   ]
  },
  {
   "cell_type": "code",
   "execution_count": 77,
   "metadata": {},
   "outputs": [],
   "source": [
    "from sklearn.ensemble import RandomForestClassifier"
   ]
  },
  {
   "cell_type": "code",
   "execution_count": 78,
   "metadata": {},
   "outputs": [],
   "source": [
    "forest=RandomForestClassifier(max_depth=16, n_estimators=20)"
   ]
  },
  {
   "cell_type": "code",
   "execution_count": 79,
   "metadata": {},
   "outputs": [],
   "source": [
    "model_RF=forest.fit(x_train, y_train).predict(x_test)"
   ]
  },
  {
   "cell_type": "code",
   "execution_count": 80,
   "metadata": {},
   "outputs": [
    {
     "data": {
      "text/plain": [
       "0.8281430219146482"
      ]
     },
     "execution_count": 80,
     "metadata": {},
     "output_type": "execute_result"
    }
   ],
   "source": [
    "accuracy_score(y_test, model_RF)"
   ]
  },
  {
   "cell_type": "code",
   "execution_count": 81,
   "metadata": {},
   "outputs": [
    {
     "data": {
      "text/plain": [
       "0.7987594896432982"
      ]
     },
     "execution_count": 81,
     "metadata": {},
     "output_type": "execute_result"
    }
   ],
   "source": [
    "cohen_kappa_score(y_test, model_RF)"
   ]
  },
  {
   "cell_type": "code",
   "execution_count": 82,
   "metadata": {},
   "outputs": [],
   "source": [
    "acc_rf = accuracy_score(y_test, model_RF)"
   ]
  },
  {
   "cell_type": "code",
   "execution_count": 83,
   "metadata": {},
   "outputs": [],
   "source": [
    "cks_rf = cohen_kappa_score(y_test, model_RF)"
   ]
  },
  {
   "cell_type": "markdown",
   "metadata": {},
   "source": [
    "### Voting Classifier"
   ]
  },
  {
   "cell_type": "code",
   "execution_count": 84,
   "metadata": {},
   "outputs": [],
   "source": [
    "from sklearn.ensemble import VotingClassifier"
   ]
  },
  {
   "cell_type": "code",
   "execution_count": 85,
   "metadata": {},
   "outputs": [],
   "source": [
    "vc = VotingClassifier(estimators=[('tree', tree),('forest', forest), ('lr', lr), ('bg', bg), ('XGBR', XGBR)])"
   ]
  },
  {
   "cell_type": "code",
   "execution_count": 86,
   "metadata": {},
   "outputs": [
    {
     "name": "stderr",
     "output_type": "stream",
     "text": [
      "C:\\Users\\Aditya\\Anaconda3\\lib\\site-packages\\sklearn\\linear_model\\logistic.py:433: FutureWarning: Default solver will be changed to 'lbfgs' in 0.22. Specify a solver to silence this warning.\n",
      "  FutureWarning)\n",
      "C:\\Users\\Aditya\\Anaconda3\\lib\\site-packages\\sklearn\\linear_model\\logistic.py:460: FutureWarning: Default multi_class will be changed to 'auto' in 0.22. Specify the multi_class option to silence this warning.\n",
      "  \"this warning.\", FutureWarning)\n"
     ]
    }
   ],
   "source": [
    "model_VC=vc.fit(x_train, y_train).predict(x_test)"
   ]
  },
  {
   "cell_type": "code",
   "execution_count": 87,
   "metadata": {},
   "outputs": [
    {
     "data": {
      "text/plain": [
       "0.8419838523644751"
      ]
     },
     "execution_count": 87,
     "metadata": {},
     "output_type": "execute_result"
    }
   ],
   "source": [
    "accuracy_score(y_test, model_VC)"
   ]
  },
  {
   "cell_type": "code",
   "execution_count": 88,
   "metadata": {},
   "outputs": [
    {
     "data": {
      "text/plain": [
       "0.8150637582325191"
      ]
     },
     "execution_count": 88,
     "metadata": {},
     "output_type": "execute_result"
    }
   ],
   "source": [
    "cohen_kappa_score(y_test, model_VC)"
   ]
  },
  {
   "cell_type": "code",
   "execution_count": 89,
   "metadata": {},
   "outputs": [],
   "source": [
    "acc_vc = accuracy_score(y_test, model_VC)"
   ]
  },
  {
   "cell_type": "code",
   "execution_count": 90,
   "metadata": {},
   "outputs": [],
   "source": [
    "cks_vc = cohen_kappa_score(y_test, model_VC)"
   ]
  },
  {
   "cell_type": "markdown",
   "metadata": {},
   "source": [
    "## Reports of the models applied"
   ]
  },
  {
   "cell_type": "code",
   "execution_count": 91,
   "metadata": {},
   "outputs": [],
   "source": [
    "accuracy_report = pd.DataFrame({'Model':['Logistic Regression', 'Decision tree','Bagging Classifier','XG-Boost','Ada-Boost','Gaussian NB','Bernoulli NB','Random Forest','Voting Classifier'],\n",
    "                                'Accuracy Score':[acc_lr,acc_dt,acc_bagg,acc_XGB,acc_ADABoost,acc_nb,acc_bnb,acc_rf,acc_vc],\n",
    "                               'Cohen Kappa Score':[cks_lr,cks_dt,cks_bagg,cks_XGB,cks_ADABoost,cks_nb,cks_bnb,cks_rf,cks_vc]}) "
   ]
  },
  {
   "cell_type": "code",
   "execution_count": 92,
   "metadata": {},
   "outputs": [
    {
     "data": {
      "text/html": [
       "<div>\n",
       "<style scoped>\n",
       "    .dataframe tbody tr th:only-of-type {\n",
       "        vertical-align: middle;\n",
       "    }\n",
       "\n",
       "    .dataframe tbody tr th {\n",
       "        vertical-align: top;\n",
       "    }\n",
       "\n",
       "    .dataframe thead th {\n",
       "        text-align: right;\n",
       "    }\n",
       "</style>\n",
       "<table border=\"1\" class=\"dataframe\">\n",
       "  <thead>\n",
       "    <tr style=\"text-align: right;\">\n",
       "      <th></th>\n",
       "      <th>Model</th>\n",
       "      <th>Accuracy Score</th>\n",
       "      <th>Cohen Kappa Score</th>\n",
       "    </tr>\n",
       "  </thead>\n",
       "  <tbody>\n",
       "    <tr>\n",
       "      <th>0</th>\n",
       "      <td>Logistic Regression</td>\n",
       "      <td>0.784890</td>\n",
       "      <td>0.747655</td>\n",
       "    </tr>\n",
       "    <tr>\n",
       "      <th>1</th>\n",
       "      <td>Decision tree</td>\n",
       "      <td>0.803057</td>\n",
       "      <td>0.771066</td>\n",
       "    </tr>\n",
       "    <tr>\n",
       "      <th>2</th>\n",
       "      <td>Bagging Classifier</td>\n",
       "      <td>0.831027</td>\n",
       "      <td>0.802642</td>\n",
       "    </tr>\n",
       "    <tr>\n",
       "      <th>3</th>\n",
       "      <td>XG-Boost</td>\n",
       "      <td>0.818051</td>\n",
       "      <td>0.786801</td>\n",
       "    </tr>\n",
       "    <tr>\n",
       "      <th>4</th>\n",
       "      <td>Ada-Boost</td>\n",
       "      <td>0.350634</td>\n",
       "      <td>0.182607</td>\n",
       "    </tr>\n",
       "    <tr>\n",
       "      <th>5</th>\n",
       "      <td>Gaussian NB</td>\n",
       "      <td>0.448097</td>\n",
       "      <td>0.403228</td>\n",
       "    </tr>\n",
       "    <tr>\n",
       "      <th>6</th>\n",
       "      <td>Bernoulli NB</td>\n",
       "      <td>0.573241</td>\n",
       "      <td>0.513988</td>\n",
       "    </tr>\n",
       "    <tr>\n",
       "      <th>7</th>\n",
       "      <td>Random Forest</td>\n",
       "      <td>0.828143</td>\n",
       "      <td>0.798759</td>\n",
       "    </tr>\n",
       "    <tr>\n",
       "      <th>8</th>\n",
       "      <td>Voting Classifier</td>\n",
       "      <td>0.841984</td>\n",
       "      <td>0.815064</td>\n",
       "    </tr>\n",
       "  </tbody>\n",
       "</table>\n",
       "</div>"
      ],
      "text/plain": [
       "                 Model  Accuracy Score  Cohen Kappa Score\n",
       "0  Logistic Regression        0.784890           0.747655\n",
       "1        Decision tree        0.803057           0.771066\n",
       "2   Bagging Classifier        0.831027           0.802642\n",
       "3             XG-Boost        0.818051           0.786801\n",
       "4            Ada-Boost        0.350634           0.182607\n",
       "5          Gaussian NB        0.448097           0.403228\n",
       "6         Bernoulli NB        0.573241           0.513988\n",
       "7        Random Forest        0.828143           0.798759\n",
       "8    Voting Classifier        0.841984           0.815064"
      ]
     },
     "execution_count": 92,
     "metadata": {},
     "output_type": "execute_result"
    }
   ],
   "source": [
    "accuracy_report"
   ]
  },
  {
   "cell_type": "markdown",
   "metadata": {},
   "source": [
    "### From the above report we can see that Ensemble Techniques like Bagging, XGBoost, Random Forest, Voting Classifier gives more accuracy.\n",
    "### Voting Classifier gives an accuracy of 84%"
   ]
  },
  {
   "cell_type": "markdown",
   "metadata": {},
   "source": [
    "### We can use Random Forest technique to find the best features which define the dataset."
   ]
  },
  {
   "cell_type": "code",
   "execution_count": 93,
   "metadata": {},
   "outputs": [],
   "source": [
    "rand = forest.feature_importances_"
   ]
  },
  {
   "cell_type": "code",
   "execution_count": 94,
   "metadata": {},
   "outputs": [
    {
     "data": {
      "image/png": "[encoded data removed]",
      "text/plain": [
       "<Figure size 432x288 with 1 Axes>"
      ]
     },
     "metadata": {
      "needs_background": "light"
     },
     "output_type": "display_data"
    }
   ],
   "source": [
    "plt.bar(range(len(rand)),rand)\n",
    "plt.show()"
   ]
  },
  {
   "cell_type": "code",
   "execution_count": 95,
   "metadata": {},
   "outputs": [],
   "source": [
    "a = pd.DataFrame(list(rand))"
   ]
  },
  {
   "cell_type": "code",
   "execution_count": 96,
   "metadata": {},
   "outputs": [],
   "source": [
    "a[\"Features\"] = list(x.columns)"
   ]
  },
  {
   "cell_type": "code",
   "execution_count": 97,
   "metadata": {},
   "outputs": [],
   "source": [
    "b = a.sort_values(by=0,ascending=False)"
   ]
  },
  {
   "cell_type": "code",
   "execution_count": 98,
   "metadata": {},
   "outputs": [
    {
     "data": {
      "text/html": [
       "<div>\n",
       "<style scoped>\n",
       "    .dataframe tbody tr th:only-of-type {\n",
       "        vertical-align: middle;\n",
       "    }\n",
       "\n",
       "    .dataframe tbody tr th {\n",
       "        vertical-align: top;\n",
       "    }\n",
       "\n",
       "    .dataframe thead th {\n",
       "        text-align: right;\n",
       "    }\n",
       "</style>\n",
       "<table border=\"1\" class=\"dataframe\">\n",
       "  <thead>\n",
       "    <tr style=\"text-align: right;\">\n",
       "      <th></th>\n",
       "      <th>0</th>\n",
       "      <th>Features</th>\n",
       "    </tr>\n",
       "  </thead>\n",
       "  <tbody>\n",
       "    <tr>\n",
       "      <th>132</th>\n",
       "      <td>0.049908</td>\n",
       "      <td>POS</td>\n",
       "    </tr>\n",
       "    <tr>\n",
       "      <th>127</th>\n",
       "      <td>0.035454</td>\n",
       "      <td>SNER_ORG</td>\n",
       "    </tr>\n",
       "    <tr>\n",
       "      <th>55</th>\n",
       "      <td>0.033437</td>\n",
       "      <td>LEN</td>\n",
       "    </tr>\n",
       "    <tr>\n",
       "      <th>58</th>\n",
       "      <td>0.025444</td>\n",
       "      <td>DP_POBJ</td>\n",
       "    </tr>\n",
       "    <tr>\n",
       "      <th>126</th>\n",
       "      <td>0.023525</td>\n",
       "      <td>NER_OTH</td>\n",
       "    </tr>\n",
       "    <tr>\n",
       "      <th>50</th>\n",
       "      <td>0.023010</td>\n",
       "      <td>SW_COM</td>\n",
       "    </tr>\n",
       "    <tr>\n",
       "      <th>76</th>\n",
       "      <td>0.022546</td>\n",
       "      <td>CG14</td>\n",
       "    </tr>\n",
       "    <tr>\n",
       "      <th>57</th>\n",
       "      <td>0.022439</td>\n",
       "      <td>DP_PREP</td>\n",
       "    </tr>\n",
       "    <tr>\n",
       "      <th>62</th>\n",
       "      <td>0.021904</td>\n",
       "      <td>DP_NNC</td>\n",
       "    </tr>\n",
       "    <tr>\n",
       "      <th>125</th>\n",
       "      <td>0.020305</td>\n",
       "      <td>NER_LOC</td>\n",
       "    </tr>\n",
       "    <tr>\n",
       "      <th>82</th>\n",
       "      <td>0.019693</td>\n",
       "      <td>CG20</td>\n",
       "    </tr>\n",
       "    <tr>\n",
       "      <th>86</th>\n",
       "      <td>0.019337</td>\n",
       "      <td>CG24</td>\n",
       "    </tr>\n",
       "    <tr>\n",
       "      <th>53</th>\n",
       "      <td>0.017463</td>\n",
       "      <td>SW_COL</td>\n",
       "    </tr>\n",
       "    <tr>\n",
       "      <th>72</th>\n",
       "      <td>0.016167</td>\n",
       "      <td>CG10</td>\n",
       "    </tr>\n",
       "    <tr>\n",
       "      <th>0</th>\n",
       "      <td>0.015509</td>\n",
       "      <td>FG1</td>\n",
       "    </tr>\n",
       "    <tr>\n",
       "      <th>52</th>\n",
       "      <td>0.014942</td>\n",
       "      <td>SW_STOP</td>\n",
       "    </tr>\n",
       "    <tr>\n",
       "      <th>60</th>\n",
       "      <td>0.013663</td>\n",
       "      <td>DP_NLA</td>\n",
       "    </tr>\n",
       "    <tr>\n",
       "      <th>28</th>\n",
       "      <td>0.013421</td>\n",
       "      <td>FG29</td>\n",
       "    </tr>\n",
       "    <tr>\n",
       "      <th>38</th>\n",
       "      <td>0.012964</td>\n",
       "      <td>FG39</td>\n",
       "    </tr>\n",
       "    <tr>\n",
       "      <th>26</th>\n",
       "      <td>0.012382</td>\n",
       "      <td>FG27</td>\n",
       "    </tr>\n",
       "    <tr>\n",
       "      <th>43</th>\n",
       "      <td>0.012289</td>\n",
       "      <td>FG44</td>\n",
       "    </tr>\n",
       "    <tr>\n",
       "      <th>65</th>\n",
       "      <td>0.012235</td>\n",
       "      <td>CG3</td>\n",
       "    </tr>\n",
       "    <tr>\n",
       "      <th>54</th>\n",
       "      <td>0.012124</td>\n",
       "      <td>ND</td>\n",
       "    </tr>\n",
       "    <tr>\n",
       "      <th>61</th>\n",
       "      <td>0.011984</td>\n",
       "      <td>DP_NRA</td>\n",
       "    </tr>\n",
       "    <tr>\n",
       "      <th>30</th>\n",
       "      <td>0.011598</td>\n",
       "      <td>FG31</td>\n",
       "    </tr>\n",
       "    <tr>\n",
       "      <th>45</th>\n",
       "      <td>0.011457</td>\n",
       "      <td>FG46</td>\n",
       "    </tr>\n",
       "    <tr>\n",
       "      <th>85</th>\n",
       "      <td>0.010487</td>\n",
       "      <td>CG23</td>\n",
       "    </tr>\n",
       "    <tr>\n",
       "      <th>24</th>\n",
       "      <td>0.009904</td>\n",
       "      <td>FG25</td>\n",
       "    </tr>\n",
       "    <tr>\n",
       "      <th>40</th>\n",
       "      <td>0.009736</td>\n",
       "      <td>FG41</td>\n",
       "    </tr>\n",
       "    <tr>\n",
       "      <th>34</th>\n",
       "      <td>0.009256</td>\n",
       "      <td>FG35</td>\n",
       "    </tr>\n",
       "    <tr>\n",
       "      <th>...</th>\n",
       "      <td>...</td>\n",
       "      <td>...</td>\n",
       "    </tr>\n",
       "    <tr>\n",
       "      <th>112</th>\n",
       "      <td>0.002379</td>\n",
       "      <td>CG50</td>\n",
       "    </tr>\n",
       "    <tr>\n",
       "      <th>64</th>\n",
       "      <td>0.001702</td>\n",
       "      <td>CG2</td>\n",
       "    </tr>\n",
       "    <tr>\n",
       "      <th>101</th>\n",
       "      <td>0.001624</td>\n",
       "      <td>CG39</td>\n",
       "    </tr>\n",
       "    <tr>\n",
       "      <th>87</th>\n",
       "      <td>0.001516</td>\n",
       "      <td>CG25</td>\n",
       "    </tr>\n",
       "    <tr>\n",
       "      <th>51</th>\n",
       "      <td>0.001474</td>\n",
       "      <td>SW_SEMCOL</td>\n",
       "    </tr>\n",
       "    <tr>\n",
       "      <th>96</th>\n",
       "      <td>0.001342</td>\n",
       "      <td>CG34</td>\n",
       "    </tr>\n",
       "    <tr>\n",
       "      <th>81</th>\n",
       "      <td>0.001272</td>\n",
       "      <td>CG19</td>\n",
       "    </tr>\n",
       "    <tr>\n",
       "      <th>74</th>\n",
       "      <td>0.001151</td>\n",
       "      <td>CG12</td>\n",
       "    </tr>\n",
       "    <tr>\n",
       "      <th>99</th>\n",
       "      <td>0.000897</td>\n",
       "      <td>CG37</td>\n",
       "    </tr>\n",
       "    <tr>\n",
       "      <th>124</th>\n",
       "      <td>0.000891</td>\n",
       "      <td>NER_ORG</td>\n",
       "    </tr>\n",
       "    <tr>\n",
       "      <th>119</th>\n",
       "      <td>0.000844</td>\n",
       "      <td>C_GRANT</td>\n",
       "    </tr>\n",
       "    <tr>\n",
       "      <th>128</th>\n",
       "      <td>0.000835</td>\n",
       "      <td>SNER_PST</td>\n",
       "    </tr>\n",
       "    <tr>\n",
       "      <th>70</th>\n",
       "      <td>0.000657</td>\n",
       "      <td>CG8</td>\n",
       "    </tr>\n",
       "    <tr>\n",
       "      <th>93</th>\n",
       "      <td>0.000636</td>\n",
       "      <td>CG31</td>\n",
       "    </tr>\n",
       "    <tr>\n",
       "      <th>110</th>\n",
       "      <td>0.000621</td>\n",
       "      <td>CG48</td>\n",
       "    </tr>\n",
       "    <tr>\n",
       "      <th>106</th>\n",
       "      <td>0.000607</td>\n",
       "      <td>CG44</td>\n",
       "    </tr>\n",
       "    <tr>\n",
       "      <th>94</th>\n",
       "      <td>0.000588</td>\n",
       "      <td>CG32</td>\n",
       "    </tr>\n",
       "    <tr>\n",
       "      <th>66</th>\n",
       "      <td>0.000537</td>\n",
       "      <td>CG4</td>\n",
       "    </tr>\n",
       "    <tr>\n",
       "      <th>100</th>\n",
       "      <td>0.000508</td>\n",
       "      <td>CG38</td>\n",
       "    </tr>\n",
       "    <tr>\n",
       "      <th>104</th>\n",
       "      <td>0.000489</td>\n",
       "      <td>CG42</td>\n",
       "    </tr>\n",
       "    <tr>\n",
       "      <th>83</th>\n",
       "      <td>0.000447</td>\n",
       "      <td>CG21</td>\n",
       "    </tr>\n",
       "    <tr>\n",
       "      <th>108</th>\n",
       "      <td>0.000397</td>\n",
       "      <td>CG46</td>\n",
       "    </tr>\n",
       "    <tr>\n",
       "      <th>77</th>\n",
       "      <td>0.000323</td>\n",
       "      <td>CG15</td>\n",
       "    </tr>\n",
       "    <tr>\n",
       "      <th>115</th>\n",
       "      <td>0.000119</td>\n",
       "      <td>C_AFF</td>\n",
       "    </tr>\n",
       "    <tr>\n",
       "      <th>122</th>\n",
       "      <td>0.000065</td>\n",
       "      <td>C_KEYSW</td>\n",
       "    </tr>\n",
       "    <tr>\n",
       "      <th>117</th>\n",
       "      <td>0.000064</td>\n",
       "      <td>C_HIGL</td>\n",
       "    </tr>\n",
       "    <tr>\n",
       "      <th>114</th>\n",
       "      <td>0.000059</td>\n",
       "      <td>C_AUTH</td>\n",
       "    </tr>\n",
       "    <tr>\n",
       "      <th>121</th>\n",
       "      <td>0.000054</td>\n",
       "      <td>C_KEYW</td>\n",
       "    </tr>\n",
       "    <tr>\n",
       "      <th>116</th>\n",
       "      <td>0.000037</td>\n",
       "      <td>C_ABS</td>\n",
       "    </tr>\n",
       "    <tr>\n",
       "      <th>118</th>\n",
       "      <td>0.000012</td>\n",
       "      <td>C_CORR</td>\n",
       "    </tr>\n",
       "  </tbody>\n",
       "</table>\n",
       "<p>134 rows × 2 columns</p>\n",
       "</div>"
      ],
      "text/plain": [
       "            0   Features\n",
       "132  0.049908        POS\n",
       "127  0.035454   SNER_ORG\n",
       "55   0.033437        LEN\n",
       "58   0.025444    DP_POBJ\n",
       "126  0.023525    NER_OTH\n",
       "50   0.023010     SW_COM\n",
       "76   0.022546       CG14\n",
       "57   0.022439    DP_PREP\n",
       "62   0.021904     DP_NNC\n",
       "125  0.020305    NER_LOC\n",
       "82   0.019693       CG20\n",
       "86   0.019337       CG24\n",
       "53   0.017463     SW_COL\n",
       "72   0.016167       CG10\n",
       "0    0.015509        FG1\n",
       "52   0.014942    SW_STOP\n",
       "60   0.013663     DP_NLA\n",
       "28   0.013421       FG29\n",
       "38   0.012964       FG39\n",
       "26   0.012382       FG27\n",
       "43   0.012289       FG44\n",
       "65   0.012235        CG3\n",
       "54   0.012124         ND\n",
       "61   0.011984     DP_NRA\n",
       "30   0.011598       FG31\n",
       "45   0.011457       FG46\n",
       "85   0.010487       CG23\n",
       "24   0.009904       FG25\n",
       "40   0.009736       FG41\n",
       "34   0.009256       FG35\n",
       "..        ...        ...\n",
       "112  0.002379       CG50\n",
       "64   0.001702        CG2\n",
       "101  0.001624       CG39\n",
       "87   0.001516       CG25\n",
       "51   0.001474  SW_SEMCOL\n",
       "96   0.001342       CG34\n",
       "81   0.001272       CG19\n",
       "74   0.001151       CG12\n",
       "99   0.000897       CG37\n",
       "124  0.000891    NER_ORG\n",
       "119  0.000844    C_GRANT\n",
       "128  0.000835   SNER_PST\n",
       "70   0.000657        CG8\n",
       "93   0.000636       CG31\n",
       "110  0.000621       CG48\n",
       "106  0.000607       CG44\n",
       "94   0.000588       CG32\n",
       "66   0.000537        CG4\n",
       "100  0.000508       CG38\n",
       "104  0.000489       CG42\n",
       "83   0.000447       CG21\n",
       "108  0.000397       CG46\n",
       "77   0.000323       CG15\n",
       "115  0.000119      C_AFF\n",
       "122  0.000065    C_KEYSW\n",
       "117  0.000064     C_HIGL\n",
       "114  0.000059     C_AUTH\n",
       "121  0.000054     C_KEYW\n",
       "116  0.000037      C_ABS\n",
       "118  0.000012     C_CORR\n",
       "\n",
       "[134 rows x 2 columns]"
      ]
     },
     "execution_count": 98,
     "metadata": {},
     "output_type": "execute_result"
    }
   ],
   "source": [
    "b"
   ]
  },
  {
   "cell_type": "markdown",
   "metadata": {},
   "source": [
    "### The top most features in the below figure contribute more to the data set."
   ]
  },
  {
   "cell_type": "code",
   "execution_count": 99,
   "metadata": {},
   "outputs": [
    {
     "data": {
      "text/plain": [
       "<matplotlib.axes._subplots.AxesSubplot at 0x251e187fcc0>"
      ]
     },
     "execution_count": 99,
     "metadata": {},
     "output_type": "execute_result"
    },
    {
     "data": {
      "image/png": "[encoded data removed]",
      "text/plain": [
       "<Figure size 720x2160 with 1 Axes>"
      ]
     },
     "metadata": {
      "needs_background": "light"
     },
     "output_type": "display_data"
    }
   ],
   "source": [
    "plt.figure(figsize=[10,30])\n",
    "sns.barplot(b[0],b[\"Features\"])\n"
   ]
  },
  {
   "cell_type": "markdown",
   "metadata": {},
   "source": [
    "## Inference\n",
    "### The data consists of 135 features with 17337 rows. \n",
    "### Used Countplot to find the unique LABEL (Target Column) with its count.\n",
    "### Checked if there is any missing values in tha data and found out there is no missing values.\n",
    "### Used Heatmap to find the correlation among different features in the dataset.\n",
    "### Did scaling to Standardize the data.\n",
    "### Divided the dataset into train and validation set with 80/20 ratio.\n",
    "### Tried different training algorithms and features selection approaches to find which algorithm suits the task best and which features best define the dataset.\n",
    "### After applying different algorithms, found that Ensemble Techniques like Bagging, XGBoost, Random Forest, Voting Classifier gave more accuracy.\n",
    "### Voting Classifier gives an accuracy of 84% and Random Forest gave an accuracy of 83%. \n",
    "### Used Random Forest technique to find the best features which define the dataset       (Used forest.feature_importances_) .\n",
    "### Used Barplot (descending order) to find the top most features in the below figure contribute more to the data set.\n",
    "### Few Best features that contribute more to the Dataset are 'POS', 'LEN', 'SNER_ORG', 'SW_COM', 'DP_POBJ', 'CG5', 'NER_OTH', 'NER_LOC' etc and features that does not contribute are 'C_GRANT', 'C_AUTH', 'C_AFF', 'C_KEYSW', 'C_HIGH', 'C_CORR', 'C_TITLE' etc which are present at the bottom of the barplot.\n"
   ]
  }
 ],
 "metadata": {
  "kernelspec": {
   "display_name": "Python 3",
   "language": "python",
   "name": "python3"
  },
  "language_info": {
   "codemirror_mode": {
    "name": "ipython",
    "version": 3
   },
   "file_extension": ".py",
   "mimetype": "text/x-python",
   "name": "python",
   "nbconvert_exporter": "python",
   "pygments_lexer": "ipython3",
   "version": "3.7.1"
  }
 },
 "nbformat": 4,
 "nbformat_minor": 2
}
